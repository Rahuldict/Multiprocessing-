{
 "cells": [
  {
   "cell_type": "code",
   "execution_count": 1,
   "id": "8d18e40f-6573-4064-ac4b-17a05f22e583",
   "metadata": {},
   "outputs": [],
   "source": [
    "#Q1. What is multiprocessing in python? Why is it useful?"
   ]
  },
  {
   "cell_type": "code",
   "execution_count": 2,
   "id": "b17a5414-48f3-4df8-8a3d-1ef5de0cf0a6",
   "metadata": {},
   "outputs": [
    {
     "data": {
      "text/plain": [
       "'Multiprocessing in Python is a technique that allows you to run multiple processes concurrently, taking advantage of multiple CPU cores in a multi-core system. It is a way of achieving parallelism, where multiple tasks are executed simultaneously, thus improving the performance and efficiency of CPU-bound tasks.\\n\\nMultiprocessing is useful when you have tasks that are CPU-intensive and can be performed independently of each other. By using multiple processes, Python can execute these tasks concurrently, making use of all available CPU cores and reducing the overall processing time.'"
      ]
     },
     "execution_count": 2,
     "metadata": {},
     "output_type": "execute_result"
    }
   ],
   "source": [
    "\n",
    "'''Multiprocessing in Python is a technique that allows you to run multiple processes concurrently, taking advantage of multiple CPU cores in a multi-core system. It is a way of achieving parallelism, where multiple tasks are executed simultaneously, thus improving the performance and efficiency of CPU-bound tasks.\n",
    "\n",
    "Multiprocessing is useful when you have tasks that are CPU-intensive and can be performed independently of each other. By using multiple processes, Python can execute these tasks concurrently, making use of all available CPU cores and reducing the overall processing time.'''"
   ]
  },
  {
   "cell_type": "code",
   "execution_count": null,
   "id": "f43b2020-56d6-4058-873a-c0518631bed8",
   "metadata": {},
   "outputs": [],
   "source": [
    "#Q2. What are the differences between multiprocessing and multithreading?"
   ]
  },
  {
   "cell_type": "code",
   "execution_count": null,
   "id": "4264ad07-b75e-48e4-abb9-09b428b43f67",
   "metadata": {},
   "outputs": [],
   "source": [
    "''' The main differences between multiprocessing and multithreading in Python are:\n",
    "\n",
    "Separate Memory Space: Each process in multiprocessing has its own memory space, while threads in multithreading share the same memory space. This makes it easier to manage data in multiprocessing but requires explicit communication mechanisms like queues for inter-process communication.\n",
    "\n",
    "GIL (Global Interpreter Lock): Python has a GIL that allows only one thread to execute Python bytecode at a time. This limitation restricts the true parallelism of multithreading for CPU-bound tasks, whereas multiprocessing can fully utilize multiple cores.\n",
    "\n",
    "Performance: Multiprocessing is generally more suitable for CPU-bound tasks as it can run in parallel across multiple cores. Multithreading can be useful for I/O-bound tasks where threads can wait for I/O operations without releasing the GIL.'''"
   ]
  },
  {
   "cell_type": "code",
   "execution_count": 3,
   "id": "306bce36-685e-4727-a63b-7ba08c62407e",
   "metadata": {},
   "outputs": [],
   "source": [
    "#Q3. Write a python code to create a process using the multiprocessing module."
   ]
  },
  {
   "cell_type": "code",
   "execution_count": 4,
   "id": "b927f243-f4f0-4e3f-8136-6b6de100b807",
   "metadata": {},
   "outputs": [
    {
     "name": "stdout",
     "output_type": "stream",
     "text": [
      "This is a child process.\n",
      "Main process finished.\n"
     ]
    }
   ],
   "source": [
    "import multiprocessing\n",
    "\n",
    "def process_function():\n",
    "    print(\"This is a child process.\")\n",
    "\n",
    "if __name__ == \"__main__\":\n",
    "    # Create a process\n",
    "    process = multiprocessing.Process(target=process_function)\n",
    "\n",
    "    # Start the process\n",
    "    process.start()\n",
    "\n",
    "    # Wait for the process to complete\n",
    "    process.join()\n",
    "\n",
    "    print(\"Main process finished.\")\n"
   ]
  },
  {
   "cell_type": "code",
   "execution_count": 5,
   "id": "e9d22a6c-860c-4893-90a0-b9dfa2b715bc",
   "metadata": {},
   "outputs": [],
   "source": [
    "#Q4. What is a multiprocessing pool in python? Why is it used?"
   ]
  },
  {
   "cell_type": "code",
   "execution_count": null,
   "id": "2c64c46b-7a4b-4da7-b728-0dd548b1972b",
   "metadata": {},
   "outputs": [],
   "source": [
    "'''A multiprocessing pool in Python is a convenient way to create a pool of worker processes that can execute tasks in parallel. It abstracts away the complexity of managing individual processes and provides a simple interface for distributing work among multiple processes.\n",
    "\n",
    "A pool is used when you have a large number of tasks that can be executed independently and in parallel. It allows you to submit tasks to the pool, and the pool takes care of distributing the tasks among the worker processes, which can run concurrently on multiple CPU cores. Once a task is completed, the result is returned to the main process.'''"
   ]
  },
  {
   "cell_type": "code",
   "execution_count": 6,
   "id": "0d2f5cf2-a935-45da-9fe4-d8d8edc0e3d9",
   "metadata": {},
   "outputs": [],
   "source": [
    "#Q5. How can we create a pool of worker processes in python using the multiprocessing module?"
   ]
  },
  {
   "cell_type": "code",
   "execution_count": 7,
   "id": "590a4f8f-b43d-4519-b0db-d17d074179c8",
   "metadata": {},
   "outputs": [],
   "source": [
    "import multiprocessing\n",
    "\n",
    "def task_function(number):\n",
    "    return number * number\n",
    "\n",
    "if __name__ == \"__main__\":\n",
    "    # Create a multiprocessing pool with 4 worker processes\n",
    "    pool = multiprocessing.Pool(processes=4)\n",
    "\n",
    "    # Input data for the tasks\n",
    "    data = [1, 2, 3, 4, 5]\n",
    "\n",
    "    # Apply the task_function to each element in data using the pool of processes\n",
    "    results = pool.map(task_function, data)\n",
    "\n",
    "    # Close the pool and wait for all processes to complete\n",
    "    pool.close()\n",
    "    pool.join()\n",
    "\n",
    "    \n"
   ]
  },
  {
   "cell_type": "code",
   "execution_count": 8,
   "id": "00464b95-52f9-4dd2-b0b1-2bac70761651",
   "metadata": {},
   "outputs": [
    {
     "name": "stdout",
     "output_type": "stream",
     "text": [
      "Results: [1, 4, 9, 16, 25]\n"
     ]
    }
   ],
   "source": [
    "print(\"Results:\", results)"
   ]
  },
  {
   "cell_type": "code",
   "execution_count": 9,
   "id": "f81dc172-f971-4467-868b-c156e889e953",
   "metadata": {},
   "outputs": [],
   "source": [
    "#Q6. Write a python program to create 4 processes, each process should print a different number using the multiprocessing module in python."
   ]
  },
  {
   "cell_type": "code",
   "execution_count": null,
   "id": "111d3944-b3e2-48e0-be18-19e88bc0ac37",
   "metadata": {},
   "outputs": [
    {
     "name": "stdout",
     "output_type": "stream",
     "text": [
      "Process 1: This is process number 1.\n",
      "Process 2: This is process number 2.\n",
      "Process 3: This is process number 3.\n",
      "Process 4: This is process number 4.\n"
     ]
    }
   ],
   "source": [
    "import multiprocessing\n",
    "\n",
    "def print_number(number):\n",
    "    print(f\"Process {number}: This is process number {number}.\")\n",
    "\n",
    "if __name__ == \"__main__\":\n",
    "    processes = []\n",
    "\n",
    "    # Create 4 processes\n",
    "    for i in range(4):\n",
    "        process = multiprocessing.Process(target=print_number, args=(i+1,))\n",
    "        processes.append(process)\n",
    "        process.start()\n",
    "\n",
    "    # Wait for all processes to complete\n",
    "    for process in processes:\n",
    "        process.join()\n",
    "\n"
   ]
  },
  {
   "cell_type": "code",
   "execution_count": 11,
   "id": "494dd9c7-35c3-4455-975b-a28831bec9f9",
   "metadata": {},
   "outputs": [
    {
     "name": "stdout",
     "output_type": "stream",
     "text": [
      "All processes finished.\n"
     ]
    }
   ],
   "source": [
    "print(\"All processes finished.\")\n"
   ]
  },
  {
   "cell_type": "code",
   "execution_count": null,
   "id": "df19084f-16e6-45c2-b3a3-ea551fce4f7d",
   "metadata": {},
   "outputs": [],
   "source": []
  }
 ],
 "metadata": {
  "kernelspec": {
   "display_name": "Python 3 (ipykernel)",
   "language": "python",
   "name": "python3"
  },
  "language_info": {
   "codemirror_mode": {
    "name": "ipython",
    "version": 3
   },
   "file_extension": ".py",
   "mimetype": "text/x-python",
   "name": "python",
   "nbconvert_exporter": "python",
   "pygments_lexer": "ipython3",
   "version": "3.10.8"
  }
 },
 "nbformat": 4,
 "nbformat_minor": 5
}
